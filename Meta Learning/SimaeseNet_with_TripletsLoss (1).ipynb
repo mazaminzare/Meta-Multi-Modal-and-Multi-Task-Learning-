{
  "nbformat": 4,
  "nbformat_minor": 0,
  "metadata": {
    "colab": {
      "provenance": []
    },
    "kernelspec": {
      "name": "python3",
      "display_name": "Python 3"
    },
    "language_info": {
      "name": "python"
    }
  },
  "cells": [
    {
      "cell_type": "markdown",
      "source": [
        "https://robinreni.blog/posts/signature-classification-using-siamese-neural-network-(pytorch-code-example)/"
      ],
      "metadata": {
        "id": "mF4drgivzUyf"
      }
    },
    {
      "cell_type": "code",
      "source": [
        "class SiameseNetwork(nn.Module):\n",
        "  def __init__(self):\n",
        "      super(SiameseNetwork, self).__init__()\n",
        "      # Setting up the Sequential of CNN Layers\n",
        "      self.cnn1 = nn.Sequential(\n",
        "      nn.Conv2d(1, 96, kernel_size=11,stride=1),\n",
        "      nn.ReLU(inplace=True),\n",
        "      nn.LocalResponseNorm(5,alpha=0.0001,beta=0.75,k=2),\n",
        "      nn.MaxPool2d(3, stride=2),\n",
        "\n",
        "      nn.Conv2d(96, 256, kernel_size=5,stride=1,padding=2),\n",
        "      nn.ReLU(inplace=True),\n",
        "      nn.LocalResponseNorm(5,alpha=0.0001,beta=0.75,k=2),\n",
        "      nn.MaxPool2d(3, stride=2),\n",
        "      nn.Dropout2d(p=0.3),\n",
        "\n",
        "      nn.Conv2d(256,384 , kernel_size=3,stride=1,padding=1),\n",
        "      nn.ReLU(inplace=True),\n",
        "      nn.Conv2d(384,256 , kernel_size=3,stride=1,padding=1),\n",
        "      nn.ReLU(inplace=True),\n",
        "      nn.MaxPool2d(3, stride=2),\n",
        "      nn.Dropout2d(p=0.3),\n",
        "      )\n",
        "\n",
        "      # Defining the fully connected layers\n",
        "      self.fc1 = nn.Sequential(\n",
        "      # First Dense Layer\n",
        "      nn.Linear(30976, 1024),\n",
        "      nn.ReLU(inplace=True),\n",
        "      nn.Dropout2d(p=0.5),\n",
        "      # Second Dense Layer\n",
        "      nn.Linear(1024, 128),\n",
        "      nn.ReLU(inplace=True),\n",
        "      # Final Dense Layer\n",
        "      nn.Linear(128,2))\n",
        "\n",
        "  def forward_once(self, x):\n",
        "      # Forward pass\n",
        "      output = self.cnn1(x)\n",
        "      output = output.view(output.size()[0], -1)\n",
        "      output = self.fc1(output)\n",
        "      return output\n",
        "\n",
        "  def forward(self, input1, input2):\n",
        "        # forward pass of input 1\n",
        "        output1 = self.forward_once(input1)\n",
        "        # forward pass of input 2\n",
        "        output2 = self.forward_once(input2)\n",
        "        # returning the feature vectors of two inputs\n",
        "        return output1, output2"
      ],
      "metadata": {
        "id": "iazpgNg13LjE"
      },
      "execution_count": null,
      "outputs": []
    },
    {
      "cell_type": "code",
      "source": [
        "class ContrastiveLoss(torch.nn.Module):\n",
        "\n",
        "  def __init__(self, margin=2.0):\n",
        "        super(ContrastiveLoss, self).__init__()\n",
        "        self.margin = margin\n",
        "\n",
        "  def forward(self, output1, output2, label):\n",
        "        # Find the pairwise distance or eucledian distance of two output feature vectors\n",
        "        euclidean_distance = F.pairwise_distance(output1, output2)\n",
        "        # perform contrastive loss calculation with the distance\n",
        "        loss_contrastive = torch.mean((1-label) * torch.pow(euclidean_distance, 2) +\n",
        "        (label) * torch.pow(torch.clamp(self.margin - euclidean_distance, min=0.0), 2))\n",
        "\n",
        "        return loss_contrastive"
      ],
      "metadata": {
        "id": "LHV8RJXevhi8"
      },
      "execution_count": null,
      "outputs": []
    },
    {
      "cell_type": "code",
      "source": [
        "def oneshot(model,img1,img2):\n",
        "    # Gives you the feature vector of both inputs\n",
        "    output1,output2 = model(img1.cuda(),img2.cuda())\n",
        "    # Compute the distance\n",
        "    euclidean_distance = F.pairwise_distance(output1, output2)\n",
        "    #with certain threshold of distance say its similar or not\n",
        "    if eucledian_distance > 0.5:\n",
        "            print(\"Orginal Signature\")\n",
        "    else:\n",
        "            print(\"Forged Signature\")"
      ],
      "metadata": {
        "id": "yhE9BN5DzDN0"
      },
      "execution_count": null,
      "outputs": []
    }
  ]
}